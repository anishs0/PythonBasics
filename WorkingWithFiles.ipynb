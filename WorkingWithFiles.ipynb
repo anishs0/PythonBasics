{
 "cells": [
  {
   "cell_type": "code",
   "execution_count": 7,
   "id": "b90073c1",
   "metadata": {},
   "outputs": [
    {
     "name": "stdout",
     "output_type": "stream",
     "text": [
      "Line Count: 1910\n",
      "0\n"
     ]
    }
   ],
   "source": [
    "#Reading files\n",
    "fhand = open('mbox-short.txt')\n",
    "count = 0\n",
    "for lin in fhand:\n",
    "    count = count + 1\n",
    "print('Line Count:', count)\n",
    "inp = fhand.read()\n",
    "print(len(inp))"
   ]
  },
  {
   "cell_type": "code",
   "execution_count": 6,
   "id": "f537bec7",
   "metadata": {},
   "outputs": [
    {
     "name": "stdout",
     "output_type": "stream",
     "text": [
      "94626\n",
      "From stephen.marquar\n"
     ]
    }
   ],
   "source": [
    "fhand = open('mbox-short.txt')\n",
    "inp = fhand.read()\n",
    "print(len(inp))\n",
    "print (inp[:20])"
   ]
  },
  {
   "cell_type": "code",
   "execution_count": 14,
   "id": "b0d98019",
   "metadata": {},
   "outputs": [
    {
     "name": "stdout",
     "output_type": "stream",
     "text": [
      "From: stephen.marquard@uct.ac.za\n",
      "From: louis@media.berkeley.edu\n",
      "From: zqian@umich.edu\n",
      "From: rjlowe@iupui.edu\n",
      "From: zqian@umich.edu\n",
      "From: rjlowe@iupui.edu\n",
      "From: cwen@iupui.edu\n",
      "From: cwen@iupui.edu\n",
      "From: gsilver@umich.edu\n",
      "From: gsilver@umich.edu\n",
      "From: zqian@umich.edu\n",
      "From: gsilver@umich.edu\n",
      "From: wagnermr@iupui.edu\n",
      "From: zqian@umich.edu\n",
      "From: antranig@caret.cam.ac.uk\n",
      "From: gopal.ramasammycook@gmail.com\n",
      "From: david.horwitz@uct.ac.za\n",
      "From: david.horwitz@uct.ac.za\n",
      "From: david.horwitz@uct.ac.za\n",
      "From: david.horwitz@uct.ac.za\n",
      "From: stephen.marquard@uct.ac.za\n",
      "From: louis@media.berkeley.edu\n",
      "From: louis@media.berkeley.edu\n",
      "From: ray@media.berkeley.edu\n",
      "From: cwen@iupui.edu\n",
      "From: cwen@iupui.edu\n",
      "From: cwen@iupui.edu\n"
     ]
    }
   ],
   "source": [
    "#searching through  a file\n",
    "fhand = open('mbox-short.txt')\n",
    "count = 0\n",
    "for line in fhand:\n",
    "    line = line.rstrip()\n",
    "    if not line.startswith('From:'):\n",
    "        continue\n",
    "    print(line)"
   ]
  },
  {
   "cell_type": "code",
   "execution_count": null,
   "id": "9a9f606e",
   "metadata": {},
   "outputs": [],
   "source": [
    "#letting the user choose the file name\n",
    "fname = input(\"Enter the file name: \")\n",
    "fhand = open(fname)\n",
    "count = 0\n",
    "for line in fhand:\n",
    "    if line.startswith('Subject: '):\n",
    "        count = count + 1\n",
    "    print(\"There were\", count, \"subject line in\", fname)"
   ]
  },
  {
   "cell_type": "code",
   "execution_count": 22,
   "id": "979dc4e3",
   "metadata": {},
   "outputs": [
    {
     "name": "stdout",
     "output_type": "stream",
     "text": [
      "Enter the file name: mbox-short.txt\n",
      "There were 27 subject lines in mbox-short.txt\n"
     ]
    }
   ],
   "source": [
    "fname = input('Enter the file name: ')\n",
    "try:\n",
    "    fhand = open(fname)\n",
    "except:\n",
    "    print('File cannot be opened:', fname)\n",
    "    exit()\n",
    "count = 0\n",
    "for line in fhand:\n",
    "    if line.startswith('Subject:'):\n",
    "        count = count + 1\n",
    "print('There were', count, 'subject lines in', fname)"
   ]
  },
  {
   "cell_type": "code",
   "execution_count": 28,
   "id": "50eb2497",
   "metadata": {},
   "outputs": [
    {
     "name": "stdout",
     "output_type": "stream",
     "text": [
      "<_io.TextIOWrapper name='output(2).txt' mode='w' encoding='cp1252'>\n"
     ]
    }
   ],
   "source": [
    "#writing files\n",
    "files_output = open('output(2).txt', 'w')\n",
    "print(files_output)\n",
    "line1 = \"I am learning python,\\n\"\n",
    "files_output.write(line1)\n",
    "files_output.close()"
   ]
  },
  {
   "cell_type": "code",
   "execution_count": null,
   "id": "b8d6fb78",
   "metadata": {},
   "outputs": [],
   "source": []
  }
 ],
 "metadata": {
  "kernelspec": {
   "display_name": "Python 3 (ipykernel)",
   "language": "python",
   "name": "python3"
  },
  "language_info": {
   "codemirror_mode": {
    "name": "ipython",
    "version": 3
   },
   "file_extension": ".py",
   "mimetype": "text/x-python",
   "name": "python",
   "nbconvert_exporter": "python",
   "pygments_lexer": "ipython3",
   "version": "3.9.5"
  }
 },
 "nbformat": 4,
 "nbformat_minor": 5
}
