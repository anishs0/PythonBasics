{
 "cells": [
  {
   "cell_type": "markdown",
   "id": "a6c1da19",
   "metadata": {},
   "source": [
    "# Strings\n"
   ]
  },
  {
   "cell_type": "code",
   "execution_count": 4,
   "id": "78e9b943",
   "metadata": {},
   "outputs": [
    {
     "name": "stdout",
     "output_type": "stream",
     "text": [
      "p\n",
      "e\n"
     ]
    }
   ],
   "source": [
    "#string Sequences\n",
    "fruit = \"apple\"\n",
    "letter = fruit[1]\n",
    "print(letter)\n",
    "length = len(fruit)\n",
    "last = fruit[length-1]\n",
    "print(last)"
   ]
  },
  {
   "cell_type": "code",
   "execution_count": 10,
   "id": "e869db05",
   "metadata": {},
   "outputs": [
    {
     "name": "stdout",
     "output_type": "stream",
     "text": [
      "Anish\n",
      "Sah\n"
     ]
    },
    {
     "data": {
      "text/plain": [
       "'Sah'"
      ]
     },
     "execution_count": 10,
     "metadata": {},
     "output_type": "execute_result"
    }
   ],
   "source": [
    "#string Slicing\n",
    "a = 'Anish Sah'\n",
    "print(a[0:5])\n",
    "print(a[6:10])\n",
    "a[:5]\n",
    "a[6:]"
   ]
  },
  {
   "cell_type": "code",
   "execution_count": 12,
   "id": "60ee7842",
   "metadata": {},
   "outputs": [
    {
     "name": "stdout",
     "output_type": "stream",
     "text": [
      "Jello World\n"
     ]
    }
   ],
   "source": [
    "#string concatenation\n",
    "greeting = \"Hello World\"\n",
    "new_greeting = 'J' + greeting[1:]\n",
    "print(new_greeting)"
   ]
  },
  {
   "cell_type": "code",
   "execution_count": 18,
   "id": "8e54e91e",
   "metadata": {},
   "outputs": [
    {
     "name": "stdout",
     "output_type": "stream",
     "text": [
      "2\n"
     ]
    }
   ],
   "source": [
    "#Looping and counting\n",
    "#incremented each time p is found\n",
    "word = \"apple\"\n",
    "count = 0\n",
    "for letter in word:\n",
    "    if letter == 'p':\n",
    "        count = count + 1\n",
    "print(count)"
   ]
  },
  {
   "cell_type": "code",
   "execution_count": 15,
   "id": "2a1ed49c",
   "metadata": {},
   "outputs": [
    {
     "data": {
      "text/plain": [
       "False"
      ]
     },
     "execution_count": 15,
     "metadata": {},
     "output_type": "execute_result"
    }
   ],
   "source": [
    "#in operator\n",
    "\"a\" in \"apple\"\n",
    "\"b\" in \"apple\""
   ]
  },
  {
   "cell_type": "code",
   "execution_count": 22,
   "id": "344f32c1",
   "metadata": {},
   "outputs": [
    {
     "name": "stdout",
     "output_type": "stream",
     "text": [
      "Your word Pineapple, comes before apple\n"
     ]
    }
   ],
   "source": [
    "#string comparison\n",
    "word = \"Pineapple\"\n",
    "if word == 'apple':\n",
    "    print('This is apple')\n",
    "elif word < 'apple':\n",
    "    print('Your word ' + word+ ', comes before apple')\n",
    "elif word > 'apple':\n",
    "    print('Your word ' + word+ ', comes after apple')\n",
    "else:\n",
    "    print('Nothing')"
   ]
  },
  {
   "cell_type": "code",
   "execution_count": 29,
   "id": "46be8e88",
   "metadata": {},
   "outputs": [
    {
     "name": "stdout",
     "output_type": "stream",
     "text": [
      "   HELLO WORLD   \n",
      "9\n"
     ]
    },
    {
     "data": {
      "text/plain": [
       "'hello world'"
      ]
     },
     "execution_count": 29,
     "metadata": {},
     "output_type": "execute_result"
    }
   ],
   "source": [
    "#string method example of python object\n",
    "word = \"   hello world   \"\n",
    "type(word)\n",
    "dir(word) #list methood available for the object\n",
    "\n",
    "newword = word.upper()\n",
    "print(newword)\n",
    "\n",
    "index = word.find('w')\n",
    "print(index)\n",
    "\n",
    "word.strip()"
   ]
  },
  {
   "cell_type": "code",
   "execution_count": 32,
   "id": "23387ddf",
   "metadata": {},
   "outputs": [
    {
     "name": "stdout",
     "output_type": "stream",
     "text": [
      "21\n",
      "31\n",
      "uct.ac.za\n"
     ]
    }
   ],
   "source": [
    "#parsing strings\n",
    "data = 'From stephen.marquard@uct.ac.za Sat Jan 5 09:14:16 2008'\n",
    "at_pos = data.find(\"@\")\n",
    "print(at_pos)\n",
    "space_position = data.find(' ', at_pos)\n",
    "print(space_position)\n",
    "host = data[at_pos+1:space_position]\n",
    "print(host)\n"
   ]
  },
  {
   "cell_type": "code",
   "execution_count": 39,
   "id": "20bfc20d",
   "metadata": {},
   "outputs": [
    {
     "data": {
      "text/plain": [
       "'In 2.5 years I had 20 dogs at my home.'"
      ]
     },
     "execution_count": 39,
     "metadata": {},
     "output_type": "execute_result"
    }
   ],
   "source": [
    "#format operator\n",
    "#%d for integers, %g for floats, %s for string\n",
    "dogs = 10\n",
    "'I have %d dogs at my home.' %dogs\n",
    "'In %g years I had %d %s at my home.' %(2.5, 20, 'dogs')\n"
   ]
  },
  {
   "cell_type": "code",
   "execution_count": null,
   "id": "9ff66cb2",
   "metadata": {},
   "outputs": [],
   "source": []
  }
 ],
 "metadata": {
  "kernelspec": {
   "display_name": "Python 3 (ipykernel)",
   "language": "python",
   "name": "python3"
  },
  "language_info": {
   "codemirror_mode": {
    "name": "ipython",
    "version": 3
   },
   "file_extension": ".py",
   "mimetype": "text/x-python",
   "name": "python",
   "nbconvert_exporter": "python",
   "pygments_lexer": "ipython3",
   "version": "3.9.5"
  }
 },
 "nbformat": 4,
 "nbformat_minor": 5
}
