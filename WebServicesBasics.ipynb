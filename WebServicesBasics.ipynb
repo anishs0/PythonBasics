{
 "cells": [
  {
   "cell_type": "markdown",
   "id": "2e900e57",
   "metadata": {},
   "source": [
    "# Using Web Services"
   ]
  },
  {
   "cell_type": "code",
   "execution_count": 4,
   "id": "d269c1ce",
   "metadata": {},
   "outputs": [
    {
     "name": "stdout",
     "output_type": "stream",
     "text": [
      "Name:  Anish \n",
      "Attr:  yes\n"
     ]
    }
   ],
   "source": [
    "#eXtensible Markup Language -XML\n",
    "import xml.etree.ElementTree as ET\n",
    "data = '''\n",
    "<person>\n",
    "  <name>Anish </name>\n",
    "  <phone type = \"intl\"> +111111111 </phone>\n",
    "  <email hide = \"yes\" />\n",
    "</person> '''\n",
    "\n",
    "tree = ET.fromstring(data) #string rep to tree of XML element\n",
    "print (\"Name: \", tree.find(\"name\").text)\n",
    "print (\"Attr: \", tree.find(\"email\").get('hide'))\n"
   ]
  },
  {
   "cell_type": "code",
   "execution_count": 5,
   "id": "74072858",
   "metadata": {},
   "outputs": [
    {
     "name": "stdout",
     "output_type": "stream",
     "text": [
      "User count: 2\n",
      "Name Anish\n",
      "Id 001\n",
      "Attribute 2\n",
      "Name Brent\n",
      "Id 009\n",
      "Attribute 7\n"
     ]
    }
   ],
   "source": [
    "#Looping through nodes\n",
    "input = '''\n",
    "<stuff>\n",
    "  <users>\n",
    "    <user x=\"2\">\n",
    "      <id>001</id>\n",
    "      <name>Anish</name>\n",
    "    </user>\n",
    "    <user x=\"7\">\n",
    "      <id>009</id>\n",
    "      <name>Brent</name>\n",
    "    </user>\n",
    "  </users>\n",
    "</stuff>'''\n",
    "\n",
    "stuff = ET.fromstring(input)\n",
    "lst = stuff.findall('users/user')\n",
    "print('User count:', len(lst))\n",
    "\n",
    "for item in lst:\n",
    "    print('Name', item.find('name').text)\n",
    "    print('Id', item.find('id').text)\n",
    "    print('Attribute', item.get('x'))"
   ]
  },
  {
   "cell_type": "code",
   "execution_count": 11,
   "id": "bfe3caa9",
   "metadata": {},
   "outputs": [
    {
     "name": "stdout",
     "output_type": "stream",
     "text": [
      "User Count: 2\n",
      "Name Anish\n",
      "Id 001\n",
      "Attribute 2\n",
      "Name Anis\n",
      "Id 008\n",
      "Attribute 7\n"
     ]
    }
   ],
   "source": [
    "#parsing JSON\n",
    "import json\n",
    "data = '''\n",
    "[\n",
    "  { \"id\" : \"001\",\n",
    "      \"x\"  : \"2\",\n",
    "      \"name\": \"Anish\"\n",
    "  },\n",
    "  {\n",
    "    \"id\" : \"008\",\n",
    "    \"x\"  : \"7\",\n",
    "    \"name\": \"Anis\"\n",
    "  }\n",
    "  \n",
    "] '''\n",
    "\n",
    "info = json.loads(data)\n",
    "print('User Count:', len(info))\n",
    "for item in info:\n",
    "    print('Name', item['name'])\n",
    "    print('Id', item['id'])\n",
    "    print('Attribute', item['x'])\n",
    "    "
   ]
  },
  {
   "cell_type": "code",
   "execution_count": null,
   "id": "5d47b775",
   "metadata": {},
   "outputs": [],
   "source": []
  }
 ],
 "metadata": {
  "kernelspec": {
   "display_name": "Python 3 (ipykernel)",
   "language": "python",
   "name": "python3"
  },
  "language_info": {
   "codemirror_mode": {
    "name": "ipython",
    "version": 3
   },
   "file_extension": ".py",
   "mimetype": "text/x-python",
   "name": "python",
   "nbconvert_exporter": "python",
   "pygments_lexer": "ipython3",
   "version": "3.9.5"
  }
 },
 "nbformat": 4,
 "nbformat_minor": 5
}
