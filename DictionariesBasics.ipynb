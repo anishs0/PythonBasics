{
 "cells": [
  {
   "cell_type": "markdown",
   "id": "4be6464d",
   "metadata": {},
   "source": [
    "# Dictionaries"
   ]
  },
  {
   "cell_type": "code",
   "execution_count": null,
   "id": "da0aab69",
   "metadata": {},
   "outputs": [],
   "source": [
    "#key-value pair\n",
    "#order is unpredictable\n",
    "#use key to look up the corresponding values"
   ]
  },
  {
   "cell_type": "code",
   "execution_count": 6,
   "id": "4a718c43",
   "metadata": {},
   "outputs": [
    {
     "name": "stdout",
     "output_type": "stream",
     "text": [
      "{'d': 1, 'i': 1, 'n': 1, 'o': 1, 's': 2, 'a': 1, 'u': 2, 'r': 1}\n"
     ]
    }
   ],
   "source": [
    "word = 'dinosaurus'\n",
    "d = dict()\n",
    "for c in word:\n",
    "    if c not in d:\n",
    "        d[c] = 1\n",
    "    else:\n",
    "        d[c] = d[c] + 1\n",
    "print(d)"
   ]
  },
  {
   "cell_type": "code",
   "execution_count": 7,
   "id": "093219e2",
   "metadata": {},
   "outputs": [
    {
     "name": "stdout",
     "output_type": "stream",
     "text": [
      "annie 42\n",
      "jan 100\n"
     ]
    }
   ],
   "source": [
    "counts = { 'chuck' : 1 , 'annie' : 42, 'jan': 100}\n",
    "for key in counts:\n",
    "    if counts[key] > 10 :\n",
    "        print(key, counts[key])"
   ]
  },
  {
   "cell_type": "code",
   "execution_count": null,
   "id": "99eea5f7",
   "metadata": {},
   "outputs": [],
   "source": []
  }
 ],
 "metadata": {
  "kernelspec": {
   "display_name": "Python 3 (ipykernel)",
   "language": "python",
   "name": "python3"
  },
  "language_info": {
   "codemirror_mode": {
    "name": "ipython",
    "version": 3
   },
   "file_extension": ".py",
   "mimetype": "text/x-python",
   "name": "python",
   "nbconvert_exporter": "python",
   "pygments_lexer": "ipython3",
   "version": "3.9.5"
  }
 },
 "nbformat": 4,
 "nbformat_minor": 5
}
