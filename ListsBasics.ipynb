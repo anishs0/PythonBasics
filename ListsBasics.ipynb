{
 "cells": [
  {
   "cell_type": "markdown",
   "id": "2692daec",
   "metadata": {},
   "source": [
    "# Lists"
   ]
  },
  {
   "cell_type": "code",
   "execution_count": 1,
   "id": "7e1f9bbb",
   "metadata": {},
   "outputs": [
    {
     "name": "stdout",
     "output_type": "stream",
     "text": [
      "[2, 2]\n"
     ]
    }
   ],
   "source": [
    "#lists are mutable\n",
    "num = [1, 2]\n",
    "num[0] = 2\n",
    "print(num)"
   ]
  },
  {
   "cell_type": "code",
   "execution_count": 4,
   "id": "af66e814",
   "metadata": {},
   "outputs": [
    {
     "name": "stdout",
     "output_type": "stream",
     "text": [
      "[1, 2, 3, 4, 5, 6]\n"
     ]
    },
    {
     "data": {
      "text/plain": [
       "[1, 2, 3, 1, 2, 3]"
      ]
     },
     "execution_count": 4,
     "metadata": {},
     "output_type": "execute_result"
    }
   ],
   "source": [
    "#list operations\n",
    "a = [1, 2, 3]\n",
    "b = [4, 5, 6]\n",
    "c = a + b\n",
    "print(c)\n",
    "[0] * 4\n",
    "[1, 2, 3] * 2"
   ]
  },
  {
   "cell_type": "code",
   "execution_count": 7,
   "id": "f220ed50",
   "metadata": {},
   "outputs": [
    {
     "name": "stdout",
     "output_type": "stream",
     "text": [
      "['a', 'x', 'y', 'd']\n"
     ]
    }
   ],
   "source": [
    "#list slices\n",
    "t = [\"a\", \"b\", \"c\", \"d\"]\n",
    "t[1:3] = [\"x\", \"y\"]\n",
    "print(t)"
   ]
  },
  {
   "cell_type": "code",
   "execution_count": 14,
   "id": "39e284fd",
   "metadata": {},
   "outputs": [
    {
     "name": "stdout",
     "output_type": "stream",
     "text": [
      "['a', 'b', 'c', '1']\n",
      "['a', 'b', 'c', '1', 'd', 'e']\n",
      "['1', 'a', 'b', 'c', 'd', 'e']\n"
     ]
    }
   ],
   "source": [
    "#list methods\n",
    "t1 = ['a', 'b', 'c']\n",
    "t1.append('1')\n",
    "print(t1)\n",
    "t2 = ['d', 'e']\n",
    "t1.extend(t2)\n",
    "print(t1)\n",
    "t1.sort()\n",
    "print(t1)\n"
   ]
  },
  {
   "cell_type": "code",
   "execution_count": 17,
   "id": "385c360a",
   "metadata": {},
   "outputs": [
    {
     "name": "stdout",
     "output_type": "stream",
     "text": [
      "['a', 'c']\n",
      "b\n"
     ]
    }
   ],
   "source": [
    "#deleting elements\n",
    "t = ['a', 'b', 'c']\n",
    "x= t.pop(1) #need removed value, use del t[1] or remove ('b') if not needed\n",
    "print(t)\n",
    "print(x)"
   ]
  },
  {
   "cell_type": "code",
   "execution_count": 19,
   "id": "6973dc77",
   "metadata": {},
   "outputs": [
    {
     "name": "stdout",
     "output_type": "stream",
     "text": [
      "5\n",
      "115\n",
      "350\n",
      "70.0\n"
     ]
    }
   ],
   "source": [
    "#lists built-in functions\n",
    "nums = [1,11,111,112,115]\n",
    "print(len(nums))\n",
    "print(max(nums))\n",
    "print(sum(nums))\n",
    "print(sum(nums)/len(nums))\n"
   ]
  },
  {
   "cell_type": "code",
   "execution_count": 22,
   "id": "f5c7d377",
   "metadata": {},
   "outputs": [
    {
     "name": "stdout",
     "output_type": "stream",
     "text": [
      "Enter a number: 22\n",
      "Enter a number: 22\n",
      "Enter a number: done\n",
      "Average: 22.0\n"
     ]
    }
   ],
   "source": [
    "total = 0\n",
    "coun = 0\n",
    "while (True):\n",
    "    inp = input('Enter a number: ')\n",
    "    if inp == 'done': break\n",
    "    value = float(inp)\n",
    "    total = total + value\n",
    "    coun = coun + 1\n",
    "average = total / coun\n",
    "print('Average:', average)"
   ]
  },
  {
   "cell_type": "code",
   "execution_count": 24,
   "id": "003d106f",
   "metadata": {},
   "outputs": [
    {
     "name": "stdout",
     "output_type": "stream",
     "text": [
      "Enter a number:  22\n",
      "Enter a number:  22\n",
      "Enter a number:  done\n",
      "Average:  22.0\n"
     ]
    }
   ],
   "source": [
    "numlist = list()\n",
    "while (True):\n",
    "    inp = input(\"Enter a number:  \")\n",
    "    if inp == \"done\":\n",
    "        break\n",
    "    value = float(inp)\n",
    "    numlist.append(value)\n",
    "average = sum(numlist) / len(numlist)\n",
    "print(\"Average: \", average)\n"
   ]
  },
  {
   "cell_type": "code",
   "execution_count": 34,
   "id": "44a3fe3e",
   "metadata": {},
   "outputs": [
    {
     "name": "stdout",
     "output_type": "stream",
     "text": [
      "['s', 'p', 'a', 'm']\n",
      "['Hello', 'from', 'denton', 'texas']\n",
      "denton\n"
     ]
    },
    {
     "data": {
      "text/plain": [
       "'hello from the towm'"
      ]
     },
     "execution_count": 34,
     "metadata": {},
     "output_type": "execute_result"
    }
   ],
   "source": [
    "# List and String\n",
    "s = \"spam\"\n",
    "t = list (s)\n",
    "print(t)\n",
    "p = \"Hello from denton texas\"\n",
    "q = p.split()\n",
    "print(q)\n",
    "print (q[2])\n",
    "x = \"I-love-to-travel\"\n",
    "delimit = \"-\"\n",
    "x.split(delimit)\n",
    "p_join = [\"hello\", \"from\", \"the\", \"towm\"]\n",
    "delimter = \" \"\n",
    "delimter.join(p_join)"
   ]
  },
  {
   "cell_type": "code",
   "execution_count": null,
   "id": "bacd26fc",
   "metadata": {},
   "outputs": [],
   "source": []
  }
 ],
 "metadata": {
  "kernelspec": {
   "display_name": "Python 3 (ipykernel)",
   "language": "python",
   "name": "python3"
  },
  "language_info": {
   "codemirror_mode": {
    "name": "ipython",
    "version": 3
   },
   "file_extension": ".py",
   "mimetype": "text/x-python",
   "name": "python",
   "nbconvert_exporter": "python",
   "pygments_lexer": "ipython3",
   "version": "3.9.5"
  }
 },
 "nbformat": 4,
 "nbformat_minor": 5
}
